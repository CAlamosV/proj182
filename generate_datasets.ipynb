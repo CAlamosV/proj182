{
 "cells": [
  {
   "cell_type": "code",
   "execution_count": 1,
   "metadata": {},
   "outputs": [],
   "source": [
    "import numpy as np\n",
    "import torch\n",
    "from torch.utils.data import DataLoader, Dataset\n",
    "from data_generation import *\n",
    "from torchvision import transforms\n",
    "from PIL import Image, ImageDraw\n",
    "from joblib import Parallel, delayed"
   ]
  },
  {
   "cell_type": "code",
   "execution_count": 2,
   "metadata": {},
   "outputs": [],
   "source": [
    "def get_distances(positions):\n",
    "    \"\"\"\n",
    "    euclidean distances between consecutive points\n",
    "    \"\"\"\n",
    "    distances = []\n",
    "    for i in range(len(positions) - 1):\n",
    "        tuple_subtraction = (\n",
    "            positions[i + 1][0] - positions[i][0],\n",
    "            positions[i + 1][1] - positions[i][1],\n",
    "        )\n",
    "        distances.append(np.linalg.norm(tuple_subtraction))\n",
    "    return distances"
   ]
  },
  {
   "cell_type": "code",
   "execution_count": 3,
   "metadata": {},
   "outputs": [],
   "source": [
    "sequence_length = 10\n",
    "speed_min = 10\n",
    "speed_max = 15\n",
    "direction_min = 0\n",
    "direction_max = 2 * np.pi\n",
    "position_x_min = 2\n",
    "position_x_max = 14\n",
    "position_y_min = 6\n",
    "position_y_max = 14\n",
    "gravity_min = 0\n",
    "gravity_max = 4\n",
    "restitution_min = 0.7\n",
    "restitution_max = 1"
   ]
  },
  {
   "cell_type": "code",
   "execution_count": 4,
   "metadata": {},
   "outputs": [],
   "source": [
    "distances = []\n",
    "for _ in range(100):\n",
    "    sequence, positions = generate_random_sequence(\n",
    "        sequence_length=sequence_length,\n",
    "        speed_min=speed_min,\n",
    "        speed_max=speed_max,\n",
    "        direction_min=direction_min,\n",
    "        direction_max=direction_max,\n",
    "        position_x_min=position_x_min,\n",
    "        position_x_max=position_x_max,\n",
    "        position_y_min=position_y_min,\n",
    "        position_y_max=position_y_max,\n",
    "        gravity_min=gravity_min,\n",
    "        gravity_max=gravity_max,\n",
    "        restitution_min=restitution_min,\n",
    "        restitution_max=restitution_max,\n",
    "    )\n",
    "    distances += get_distances(positions)"
   ]
  },
  {
   "cell_type": "code",
   "execution_count": 5,
   "metadata": {},
   "outputs": [
    {
     "data": {
      "image/png": "[encoded data removed]",
      "text/plain": [
       "<Figure size 640x480 with 1 Axes>"
      ]
     },
     "metadata": {},
     "output_type": "display_data"
    }
   ],
   "source": [
    "# plot histogram of distances\n",
    "plt.hist(distances, bins=40)\n",
    "plt.show()"
   ]
  },
  {
   "cell_type": "code",
   "execution_count": 6,
   "metadata": {},
   "outputs": [
    {
     "data": {
      "image/png": "[encoded data removed]",
      "text/plain": [
       "<Figure size 2000x200 with 10 Axes>"
      ]
     },
     "metadata": {},
     "output_type": "display_data"
    },
    {
     "data": {
      "image/png": "[encoded data removed]",
      "text/plain": [
       "<Figure size 2000x200 with 10 Axes>"
      ]
     },
     "metadata": {},
     "output_type": "display_data"
    },
    {
     "data": {
      "image/png": "[encoded data removed]",
      "text/plain": [
       "<Figure size 2000x200 with 10 Axes>"
      ]
     },
     "metadata": {},
     "output_type": "display_data"
    }
   ],
   "source": [
    "for _ in range(3):\n",
    "    sequence, positions = generate_random_sequence(\n",
    "        sequence_length=sequence_length,\n",
    "        speed_min=speed_min,\n",
    "        speed_max=speed_max,\n",
    "        direction_min=direction_min,\n",
    "        direction_max=direction_max,\n",
    "        position_x_min=position_x_min,\n",
    "        position_x_max=position_x_max,\n",
    "        position_y_min=position_y_min,\n",
    "        position_y_max=position_y_max,\n",
    "        gravity_min=gravity_min,\n",
    "        gravity_max=gravity_max,\n",
    "        restitution_min=restitution_min,\n",
    "        restitution_max=restitution_max,\n",
    "    )\n",
    "    display_sequence(sequence)"
   ]
  },
  {
   "cell_type": "code",
   "execution_count": 11,
   "metadata": {},
   "outputs": [],
   "source": [
    "def generate_single_sequence(args):\n",
    "    return generate_random_sequence(**args)\n",
    "\n",
    "\n",
    "class PixelDataset(Dataset):\n",
    "    def __init__(self, num_sequences, sequence_length, **kwargs):\n",
    "        self.data = []\n",
    "        self.targets = []\n",
    "\n",
    "        # Create a list of dictionaries, each containing the arguments for one sequence generation\n",
    "        args_list = [\n",
    "            {\"sequence_length\": sequence_length, **kwargs} for _ in range(num_sequences)\n",
    "        ]\n",
    "\n",
    "        # Parallel generation of sequences using joblib\n",
    "        results = Parallel(n_jobs=-1)(\n",
    "            delayed(generate_single_sequence)(args) for args in args_list\n",
    "        )\n",
    "\n",
    "        # Unpack results and populate data and targets\n",
    "        for images, positions in results:\n",
    "            self.data.append(images)\n",
    "            self.targets.append(positions)\n",
    "\n",
    "        self.transform = transforms.ToTensor()\n",
    "        self.sequence_length = sequence_length\n",
    "\n",
    "    def __len__(self):\n",
    "        return len(self.data)\n",
    "\n",
    "    def __getitem__(self, idx):\n",
    "        sequence_of_images = [self.transform(image) for image in self.data[idx]]\n",
    "        sequence_of_images = torch.stack(sequence_of_images)\n",
    "        target_positions = torch.FloatTensor(self.targets[idx])\n",
    "        return sequence_of_images, target_positions\n",
    "\n",
    "\n",
    "# Hyperparameters and other parameters for generate_random_sequence\n",
    "N = 50000  # Number of sequences\n",
    "L = 10  # Length of each sequence\n",
    "\n",
    "# Creating Dataset and DataLoader\n",
    "dataset = PixelDataset(\n",
    "    N,\n",
    "    L,\n",
    "    speed_min=speed_min,\n",
    "    speed_max=speed_max,\n",
    "    direction_min=direction_min,\n",
    "    direction_max=direction_max,\n",
    "    position_x_min=position_x_min,\n",
    "    position_x_max=position_x_max,\n",
    "    position_y_min=position_y_min,\n",
    "    position_y_max=position_y_max,\n",
    "    gravity_min=gravity_min,\n",
    "    gravity_max=gravity_max,\n",
    "    restitution_min=restitution_min,\n",
    "    restitution_max=restitution_max,\n",
    ")\n",
    "torch.save(dataset, \"dataset.pt\")"
   ]
  },
  {
   "cell_type": "code",
   "execution_count": null,
   "metadata": {},
   "outputs": [],
   "source": []
  }
 ],
 "metadata": {
  "kernelspec": {
   "display_name": "Python 3",
   "language": "python",
   "name": "python3"
  },
  "language_info": {
   "codemirror_mode": {
    "name": "ipython",
    "version": 3
   },
   "file_extension": ".py",
   "mimetype": "text/x-python",
   "name": "python",
   "nbconvert_exporter": "python",
   "pygments_lexer": "ipython3",
   "version": "3.8.13"
  }
 },
 "nbformat": 4,
 "nbformat_minor": 2
}
