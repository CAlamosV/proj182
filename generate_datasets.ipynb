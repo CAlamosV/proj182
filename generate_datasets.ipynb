{
 "cells": [
  {
   "cell_type": "code",
   "execution_count": null,
   "metadata": {},
   "outputs": [],
   "source": [
    "import numpy as np\n",
    "import torch\n",
    "from torch.utils.data import DataLoader, Dataset\n",
    "from data_generation import *\n",
    "from torchvision import transforms\n",
    "from PIL import Image, ImageDraw"
   ]
  },
  {
   "cell_type": "code",
   "execution_count": null,
   "metadata": {},
   "outputs": [],
   "source": [
    "def get_distances(positions):\n",
    "    \"\"\"\n",
    "    euclidean distances between consecutive points\n",
    "    \"\"\"\n",
    "    distances = []\n",
    "    for i in range(len(positions) - 1):\n",
    "        tuple_subtraction = (\n",
    "            positions[i + 1][0] - positions[i][0],\n",
    "            positions[i + 1][1] - positions[i][1],\n",
    "        )\n",
    "        distances.append(np.linalg.norm(tuple_subtraction))\n",
    "    return distances"
   ]
  },
  {
   "cell_type": "code",
   "execution_count": null,
   "metadata": {},
   "outputs": [],
   "source": [
    "sequence_length = 10\n",
    "speed_min = 10\n",
    "speed_max = 15\n",
    "direction_min = 0\n",
    "direction_max = 2 * np.pi\n",
    "position_x_min = 2\n",
    "position_x_max = 14\n",
    "position_y_min = 6\n",
    "position_y_max = 14\n",
    "gravity_min = 0\n",
    "gravity_max = 4\n",
    "restitution_min = 0.7\n",
    "restitution_max = 1"
   ]
  },
  {
   "cell_type": "code",
   "execution_count": null,
   "metadata": {},
   "outputs": [],
   "source": [
    "distances = []\n",
    "for _ in range(100):\n",
    "    sequence, positions = generate_random_sequence(\n",
    "        sequence_length=sequence_length,\n",
    "        speed_min=speed_min,\n",
    "        speed_max=speed_max,\n",
    "        direction_min=direction_min,\n",
    "        direction_max=direction_max,\n",
    "        position_x_min=position_x_min,\n",
    "        position_x_max=position_x_max,\n",
    "        position_y_min=position_y_min,\n",
    "        position_y_max=position_y_max,\n",
    "        gravity_min=gravity_min,\n",
    "        gravity_max=gravity_max,\n",
    "        restitution_min=restitution_min,\n",
    "        restitution_max=restitution_max,\n",
    "    )\n",
    "    distances += get_distances(positions)"
   ]
  },
  {
   "cell_type": "code",
   "execution_count": null,
   "metadata": {},
   "outputs": [],
   "source": [
    "# plot histogram of distances\n",
    "plt.hist(distances, bins=40)\n",
    "plt.show()"
   ]
  },
  {
   "cell_type": "code",
   "execution_count": null,
   "metadata": {},
   "outputs": [],
   "source": [
    "for _ in range(10):\n",
    "    sequence, positions = generate_random_sequence(\n",
    "        sequence_length=sequence_length,\n",
    "        speed_min=speed_min,\n",
    "        speed_max=speed_max,\n",
    "        direction_min=direction_min,\n",
    "        direction_max=direction_max,\n",
    "        position_x_min=position_x_min,\n",
    "        position_x_max=position_x_max,\n",
    "        position_y_min=position_y_min,\n",
    "        position_y_max=position_y_max,\n",
    "        gravity_min=gravity_min,\n",
    "        gravity_max=gravity_max,\n",
    "        restitution_min=restitution_min,\n",
    "        restitution_max=restitution_max,\n",
    "    )\n",
    "    display_sequence(sequence)"
   ]
  },
  {
   "cell_type": "code",
   "execution_count": null,
   "metadata": {},
   "outputs": [],
   "source": [
    "# Hyperparameters\n",
    "N = 100000  # Number of sequences\n",
    "L = 10  # Length of each sequence\n",
    "H, W = 16, 16  # Dimensions of the images\n",
    "\n",
    "\n",
    "class PixelDataset(Dataset):\n",
    "    def __init__(self, num_sequences, sequence_length):\n",
    "        self.data = []\n",
    "        self.targets = []\n",
    "        for i in range(num_sequences):\n",
    "            images, positions = generate_random_sequence(\n",
    "                sequence_length=sequence_length,\n",
    "                speed_min=speed_min,\n",
    "                speed_max=speed_max,\n",
    "                direction_min=direction_min,\n",
    "                direction_max=direction_max,\n",
    "                position_x_min=position_x_min,\n",
    "                position_x_max=position_x_max,\n",
    "                position_y_min=position_y_min,\n",
    "                position_y_max=position_y_max,\n",
    "                gravity_min=gravity_min,\n",
    "                gravity_max=gravity_max,\n",
    "                restitution_min=restitution_min,\n",
    "                restitution_max=restitution_max,\n",
    "            )\n",
    "            self.data.append(images)  # Store the whole sequence\n",
    "            self.targets.append(positions)  # Store all positions\n",
    "\n",
    "            if i % 1000 == 0:\n",
    "                print(f\"Generated {i} sequences\")\n",
    "\n",
    "        self.transform = transforms.ToTensor()\n",
    "        self.sequence_length = sequence_length\n",
    "\n",
    "    def __len__(self):\n",
    "        return len(self.data)\n",
    "\n",
    "    def __getitem__(self, idx):\n",
    "        # Transform and stack images to create a sequence\n",
    "        sequence_of_images = [self.transform(image) for image in self.data[idx]]\n",
    "        sequence_of_images = torch.stack(sequence_of_images)\n",
    "\n",
    "        # Stack target positions\n",
    "        target_positions = torch.FloatTensor(self.targets[idx])\n",
    "\n",
    "        return sequence_of_images, target_positions\n",
    "\n",
    "\n",
    "# Creating Dataset and DataLoader\n",
    "dataset = PixelDataset(N, L)\n",
    "torch.save(dataset, \"dataset.pt\")"
   ]
  },
  {
   "cell_type": "code",
   "execution_count": null,
   "metadata": {},
   "outputs": [],
   "source": []
  }
 ],
 "metadata": {
  "kernelspec": {
   "display_name": "Python 3",
   "language": "python",
   "name": "python3"
  },
  "language_info": {
   "codemirror_mode": {
    "name": "ipython",
    "version": 3
   },
   "file_extension": ".py",
   "mimetype": "text/x-python",
   "name": "python",
   "nbconvert_exporter": "python",
   "pygments_lexer": "ipython3",
   "version": "3.8.13"
  }
 },
 "nbformat": 4,
 "nbformat_minor": 2
}
