{
 "cells": [
  {
   "cell_type": "code",
   "execution_count": null,
   "metadata": {},
   "outputs": [],
   "source": [
    "import numpy as np\n",
    "import torch\n",
    "from torch.utils.data import DataLoader, Dataset\n",
    "from data_generation import *\n",
    "from torchvision import transforms\n",
    "from PIL import Image, ImageDraw"
   ]
  },
  {
   "cell_type": "code",
   "execution_count": null,
   "metadata": {},
   "outputs": [],
   "source": [
    "def get_distances(positions):\n",
    "    \"\"\"\n",
    "    euclidean distances between consecutive points\n",
    "    \"\"\"\n",
    "    distances = []\n",
    "    for i in range(len(positions) - 1):\n",
    "        tuple_subtraction = (\n",
    "            positions[i + 1][0] - positions[i][0],\n",
    "            positions[i + 1][1] - positions[i][1],\n",
    "        )\n",
    "        distances.append(np.linalg.norm(tuple_subtraction))\n",
    "    return distances"
   ]
  },
  {
   "cell_type": "code",
   "execution_count": null,
   "metadata": {},
   "outputs": [],
   "source": [
    "sequence_length = 10\n",
    "speed_min = 10\n",
    "speed_max = 15\n",
    "direction_min = 0\n",
    "direction_max = 2 * np.pi\n",
    "position_x_min = 2\n",
    "position_x_max = 14\n",
    "position_y_min = 6\n",
    "position_y_max = 14\n",
    "gravity_min = 0\n",
    "gravity_max = 4\n",
    "restitution_min = 0.7\n",
    "restitution_max = 1"
   ]
  },
  {
   "cell_type": "code",
   "execution_count": null,
   "metadata": {},
   "outputs": [],
   "source": [
    "distances = []\n",
    "for _ in range(100):\n",
    "    sequence, positions = generate_random_sequence(\n",
    "        sequence_length=sequence_length,\n",
    "        speed_min=speed_min,\n",
    "        speed_max=speed_max,\n",
    "        direction_min=direction_min,\n",
    "        direction_max=direction_max,\n",
    "        position_x_min=position_x_min,\n",
    "        position_x_max=position_x_max,\n",
    "        position_y_min=position_y_min,\n",
    "        position_y_max=position_y_max,\n",
    "        gravity_min=gravity_min,\n",
    "        gravity_max=gravity_max,\n",
    "        restitution_min=restitution_min,\n",
    "        restitution_max=restitution_max,\n",
    "    )\n",
    "    distances += get_distances(positions)"
   ]
  },
  {
   "cell_type": "code",
   "execution_count": null,
   "metadata": {},
   "outputs": [],
   "source": [
    "# plot histogram of distances\n",
    "plt.hist(distances, bins=40)\n",
    "plt.show()"
   ]
  },
  {
   "cell_type": "code",
   "execution_count": null,
   "metadata": {},
   "outputs": [],
   "source": [
    "for _ in range(10):\n",
    "    sequence, positions = generate_random_sequence(\n",
    "        sequence_length=sequence_length,\n",
    "        speed_min=speed_min,\n",
    "        speed_max=speed_max,\n",
    "        direction_min=direction_min,\n",
    "        direction_max=direction_max,\n",
    "        position_x_min=position_x_min,\n",
    "        position_x_max=position_x_max,\n",
    "        position_y_min=position_y_min,\n",
    "        position_y_max=position_y_max,\n",
    "        gravity_min=gravity_min,\n",
    "        gravity_max=gravity_max,\n",
    "        restitution_min=restitution_min,\n",
    "        restitution_max=restitution_max,\n",
    "    )\n",
    "    display_sequence(sequence)"
   ]
  },
  {
   "cell_type": "code",
   "execution_count": null,
   "metadata": {},
   "outputs": [
    {
     "name": "stdout",
     "output_type": "stream",
     "text": [
      "Generated 0 sequences\n"
     ]
    },
    {
     "ename": "KeyboardInterrupt",
     "evalue": "",
     "output_type": "error",
     "traceback": [
      "\u001b[0;31m---------------------------------------------------------------------------\u001b[0m",
      "\u001b[0;31mKeyboardInterrupt\u001b[0m                         Traceback (most recent call last)",
      "\u001b[1;32m/Users/calamos/Desktop/proj182/generate_datasets.ipynb Cell 7\u001b[0m line \u001b[0;36m5\n\u001b[1;32m     <a href='vscode-notebook-cell:/Users/calamos/Desktop/proj182/generate_datasets.ipynb#X36sZmlsZQ%3D%3D?line=46'>47</a>\u001b[0m         \u001b[39mreturn\u001b[39;00m sequence_of_images, target_positions\n\u001b[1;32m     <a href='vscode-notebook-cell:/Users/calamos/Desktop/proj182/generate_datasets.ipynb#X36sZmlsZQ%3D%3D?line=49'>50</a>\u001b[0m \u001b[39m# Creating Dataset and DataLoader\u001b[39;00m\n\u001b[0;32m---> <a href='vscode-notebook-cell:/Users/calamos/Desktop/proj182/generate_datasets.ipynb#X36sZmlsZQ%3D%3D?line=50'>51</a>\u001b[0m dataset \u001b[39m=\u001b[39m PixelDataset(N, L)\n\u001b[1;32m     <a href='vscode-notebook-cell:/Users/calamos/Desktop/proj182/generate_datasets.ipynb#X36sZmlsZQ%3D%3D?line=51'>52</a>\u001b[0m torch\u001b[39m.\u001b[39msave(dataset, \u001b[39m\"\u001b[39m\u001b[39mdataset.pt\u001b[39m\u001b[39m\"\u001b[39m)\n",
      "\u001b[1;32m/Users/calamos/Desktop/proj182/generate_datasets.ipynb Cell 7\u001b[0m line \u001b[0;36m1\n\u001b[1;32m     <a href='vscode-notebook-cell:/Users/calamos/Desktop/proj182/generate_datasets.ipynb#X36sZmlsZQ%3D%3D?line=9'>10</a>\u001b[0m \u001b[39mself\u001b[39m\u001b[39m.\u001b[39mtargets \u001b[39m=\u001b[39m []\n\u001b[1;32m     <a href='vscode-notebook-cell:/Users/calamos/Desktop/proj182/generate_datasets.ipynb#X36sZmlsZQ%3D%3D?line=10'>11</a>\u001b[0m \u001b[39mfor\u001b[39;00m i \u001b[39min\u001b[39;00m \u001b[39mrange\u001b[39m(num_sequences):\n\u001b[0;32m---> <a href='vscode-notebook-cell:/Users/calamos/Desktop/proj182/generate_datasets.ipynb#X36sZmlsZQ%3D%3D?line=11'>12</a>\u001b[0m     images, positions \u001b[39m=\u001b[39m generate_random_sequence(\n\u001b[1;32m     <a href='vscode-notebook-cell:/Users/calamos/Desktop/proj182/generate_datasets.ipynb#X36sZmlsZQ%3D%3D?line=12'>13</a>\u001b[0m         sequence_length\u001b[39m=\u001b[39;49msequence_length,\n\u001b[1;32m     <a href='vscode-notebook-cell:/Users/calamos/Desktop/proj182/generate_datasets.ipynb#X36sZmlsZQ%3D%3D?line=13'>14</a>\u001b[0m         speed_min\u001b[39m=\u001b[39;49mspeed_min,\n\u001b[1;32m     <a href='vscode-notebook-cell:/Users/calamos/Desktop/proj182/generate_datasets.ipynb#X36sZmlsZQ%3D%3D?line=14'>15</a>\u001b[0m         speed_max\u001b[39m=\u001b[39;49mspeed_max,\n\u001b[1;32m     <a href='vscode-notebook-cell:/Users/calamos/Desktop/proj182/generate_datasets.ipynb#X36sZmlsZQ%3D%3D?line=15'>16</a>\u001b[0m         direction_min\u001b[39m=\u001b[39;49mdirection_min,\n\u001b[1;32m     <a href='vscode-notebook-cell:/Users/calamos/Desktop/proj182/generate_datasets.ipynb#X36sZmlsZQ%3D%3D?line=16'>17</a>\u001b[0m         direction_max\u001b[39m=\u001b[39;49mdirection_max,\n\u001b[1;32m     <a href='vscode-notebook-cell:/Users/calamos/Desktop/proj182/generate_datasets.ipynb#X36sZmlsZQ%3D%3D?line=17'>18</a>\u001b[0m         position_x_min\u001b[39m=\u001b[39;49mposition_x_min,\n\u001b[1;32m     <a href='vscode-notebook-cell:/Users/calamos/Desktop/proj182/generate_datasets.ipynb#X36sZmlsZQ%3D%3D?line=18'>19</a>\u001b[0m         position_x_max\u001b[39m=\u001b[39;49mposition_x_max,\n\u001b[1;32m     <a href='vscode-notebook-cell:/Users/calamos/Desktop/proj182/generate_datasets.ipynb#X36sZmlsZQ%3D%3D?line=19'>20</a>\u001b[0m         position_y_min\u001b[39m=\u001b[39;49mposition_y_min,\n\u001b[1;32m     <a href='vscode-notebook-cell:/Users/calamos/Desktop/proj182/generate_datasets.ipynb#X36sZmlsZQ%3D%3D?line=20'>21</a>\u001b[0m         position_y_max\u001b[39m=\u001b[39;49mposition_y_max,\n\u001b[1;32m     <a href='vscode-notebook-cell:/Users/calamos/Desktop/proj182/generate_datasets.ipynb#X36sZmlsZQ%3D%3D?line=21'>22</a>\u001b[0m         gravity_min\u001b[39m=\u001b[39;49mgravity_min,\n\u001b[1;32m     <a href='vscode-notebook-cell:/Users/calamos/Desktop/proj182/generate_datasets.ipynb#X36sZmlsZQ%3D%3D?line=22'>23</a>\u001b[0m         gravity_max\u001b[39m=\u001b[39;49mgravity_max,\n\u001b[1;32m     <a href='vscode-notebook-cell:/Users/calamos/Desktop/proj182/generate_datasets.ipynb#X36sZmlsZQ%3D%3D?line=23'>24</a>\u001b[0m         restitution_min\u001b[39m=\u001b[39;49mrestitution_min,\n\u001b[1;32m     <a href='vscode-notebook-cell:/Users/calamos/Desktop/proj182/generate_datasets.ipynb#X36sZmlsZQ%3D%3D?line=24'>25</a>\u001b[0m         restitution_max\u001b[39m=\u001b[39;49mrestitution_max,\n\u001b[1;32m     <a href='vscode-notebook-cell:/Users/calamos/Desktop/proj182/generate_datasets.ipynb#X36sZmlsZQ%3D%3D?line=25'>26</a>\u001b[0m     )\n\u001b[1;32m     <a href='vscode-notebook-cell:/Users/calamos/Desktop/proj182/generate_datasets.ipynb#X36sZmlsZQ%3D%3D?line=26'>27</a>\u001b[0m     \u001b[39mself\u001b[39m\u001b[39m.\u001b[39mdata\u001b[39m.\u001b[39mappend(images)  \u001b[39m# Store the whole sequence\u001b[39;00m\n\u001b[1;32m     <a href='vscode-notebook-cell:/Users/calamos/Desktop/proj182/generate_datasets.ipynb#X36sZmlsZQ%3D%3D?line=27'>28</a>\u001b[0m     \u001b[39mself\u001b[39m\u001b[39m.\u001b[39mtargets\u001b[39m.\u001b[39mappend(positions)  \u001b[39m# Store all positions\u001b[39;00m\n",
      "File \u001b[0;32m~/Desktop/proj182/data_generation.py:158\u001b[0m, in \u001b[0;36mgenerate_random_sequence\u001b[0;34m(sequence_length, frame_rate, speed_min, speed_max, direction_min, direction_max, position_x_min, position_x_max, position_y_min, position_y_max, gravity_min, gravity_max, restitution_min, restitution_max)\u001b[0m\n\u001b[1;32m    155\u001b[0m coefficient_of_restitution \u001b[39m=\u001b[39m np\u001b[39m.\u001b[39mrandom\u001b[39m.\u001b[39muniform(restitution_min, restitution_max)\n\u001b[1;32m    157\u001b[0m \u001b[39m# Generate the sequence\u001b[39;00m\n\u001b[0;32m--> 158\u001b[0m sequence, positions \u001b[39m=\u001b[39m generate_sequence(\n\u001b[1;32m    159\u001b[0m     sequence_length,\n\u001b[1;32m    160\u001b[0m     initial_speed,\n\u001b[1;32m    161\u001b[0m     initial_direction,\n\u001b[1;32m    162\u001b[0m     (initial_position_x, initial_position_y),\n\u001b[1;32m    163\u001b[0m     gravity,\n\u001b[1;32m    164\u001b[0m     coefficient_of_restitution,\n\u001b[1;32m    165\u001b[0m     frame_rate,\n\u001b[1;32m    166\u001b[0m )\n\u001b[1;32m    168\u001b[0m \u001b[39mreturn\u001b[39;00m sequence, positions\n",
      "File \u001b[0;32m~/Desktop/proj182/data_generation.py:111\u001b[0m, in \u001b[0;36mgenerate_sequence\u001b[0;34m(sequence_length, initial_speed, initial_direction, initial_position, gravity, coefficient_of_restitution, frame_rate)\u001b[0m\n\u001b[1;32m    107\u001b[0m \u001b[39mfor\u001b[39;00m frame \u001b[39min\u001b[39;00m \u001b[39mrange\u001b[39m(sequence_length):\n\u001b[1;32m    108\u001b[0m     \u001b[39mfor\u001b[39;00m _ \u001b[39min\u001b[39;00m \u001b[39mrange\u001b[39m(\n\u001b[1;32m    109\u001b[0m         frame_rate\n\u001b[1;32m    110\u001b[0m     ):  \u001b[39m# Advance the simulation frame_rate times before generating an image\u001b[39;00m\n\u001b[0;32m--> 111\u001b[0m         position, velocity \u001b[39m=\u001b[39m simulate_motion(\n\u001b[1;32m    112\u001b[0m             position,\n\u001b[1;32m    113\u001b[0m             velocity,\n\u001b[1;32m    114\u001b[0m             gravity,\n\u001b[1;32m    115\u001b[0m             coefficient_of_restitution,\n\u001b[1;32m    116\u001b[0m             \u001b[39m1.0\u001b[39;49m \u001b[39m/\u001b[39;49m \u001b[39m60\u001b[39;49m,  \u001b[39m# Assuming 60 FPS for the simulation\u001b[39;49;00m\n\u001b[1;32m    117\u001b[0m         )\n\u001b[1;32m    119\u001b[0m     adjusted_position \u001b[39m=\u001b[39m (\n\u001b[1;32m    120\u001b[0m         position[\u001b[39m0\u001b[39m],\n\u001b[1;32m    121\u001b[0m         IMAGE_HEIGHT \u001b[39m-\u001b[39m position[\u001b[39m1\u001b[39m] \u001b[39m-\u001b[39m SHAPE_SIDE_LENGTH,\n\u001b[1;32m    122\u001b[0m     )\n\u001b[1;32m    123\u001b[0m     image \u001b[39m=\u001b[39m draw_frame(adjusted_position)\n",
      "File \u001b[0;32m~/Desktop/proj182/data_generation.py:44\u001b[0m, in \u001b[0;36msimulate_motion\u001b[0;34m(initial_pos, velocity, gravity, restitution, time_step)\u001b[0m\n\u001b[1;32m     42\u001b[0m shape \u001b[39m=\u001b[39m pymunk\u001b[39m.\u001b[39mPoly\u001b[39m.\u001b[39mcreate_box(body, (SHAPE_SIDE_LENGTH\u001b[39m+\u001b[39m\u001b[39m1\u001b[39m, SHAPE_SIDE_LENGTH\u001b[39m+\u001b[39m\u001b[39m1\u001b[39m))\n\u001b[1;32m     43\u001b[0m shape\u001b[39m.\u001b[39melasticity \u001b[39m=\u001b[39m restitution\n\u001b[0;32m---> 44\u001b[0m space\u001b[39m.\u001b[39;49madd(body, shape)\n\u001b[1;32m     46\u001b[0m \u001b[39m# Add static lines to form boundaries of the space\u001b[39;00m\n\u001b[1;32m     47\u001b[0m static_lines \u001b[39m=\u001b[39m [\n\u001b[1;32m     48\u001b[0m     pymunk\u001b[39m.\u001b[39mSegment(space\u001b[39m.\u001b[39mstatic_body, (\u001b[39m0\u001b[39m, \u001b[39m0\u001b[39m), (\u001b[39m0\u001b[39m, IMAGE_HEIGHT), \u001b[39m1\u001b[39m),  \u001b[39m# Left\u001b[39;00m\n\u001b[1;32m     49\u001b[0m     pymunk\u001b[39m.\u001b[39mSegment(\n\u001b[0;32m   (...)\u001b[0m\n\u001b[1;32m     55\u001b[0m     pymunk\u001b[39m.\u001b[39mSegment(space\u001b[39m.\u001b[39mstatic_body, (IMAGE_WIDTH, \u001b[39m0\u001b[39m), (\u001b[39m0\u001b[39m, \u001b[39m0\u001b[39m), \u001b[39m1\u001b[39m),  \u001b[39m# Top\u001b[39;00m\n\u001b[1;32m     56\u001b[0m ]\n",
      "File \u001b[0;32m~/opt/anaconda3/lib/python3.8/site-packages/pymunk/space.py:392\u001b[0m, in \u001b[0;36mSpace.add\u001b[0;34m(self, *objs)\u001b[0m\n\u001b[1;32m    390\u001b[0m     \u001b[39mpass\u001b[39;00m\n\u001b[1;32m    391\u001b[0m \u001b[39melif\u001b[39;00m \u001b[39misinstance\u001b[39m(o, Shape):\n\u001b[0;32m--> 392\u001b[0m     \u001b[39mself\u001b[39;49m\u001b[39m.\u001b[39;49m_add_shape(o)\n\u001b[1;32m    393\u001b[0m \u001b[39melif\u001b[39;00m \u001b[39misinstance\u001b[39m(o, Constraint):\n\u001b[1;32m    394\u001b[0m     \u001b[39mself\u001b[39m\u001b[39m.\u001b[39m_add_constraint(o)\n",
      "File \u001b[0;32m~/opt/anaconda3/lib/python3.8/site-packages/pymunk/space.py:427\u001b[0m, in \u001b[0;36mSpace._add_shape\u001b[0;34m(self, shape)\u001b[0m\n\u001b[1;32m    425\u001b[0m \u001b[39m\u001b[39m\u001b[39m\"\"\"Adds a shape to the space\"\"\"\u001b[39;00m\n\u001b[1;32m    426\u001b[0m \u001b[39m# print(\"addshape\", self._space, shape)\u001b[39;00m\n\u001b[0;32m--> 427\u001b[0m \u001b[39massert\u001b[39;00m shape\u001b[39m.\u001b[39;49m_id \u001b[39mnot\u001b[39;49;00m \u001b[39min\u001b[39;49;00m \u001b[39mself\u001b[39;49m\u001b[39m.\u001b[39;49m_shapes, \u001b[39m\"\u001b[39m\u001b[39mShape already added to space.\u001b[39m\u001b[39m\"\u001b[39m\n\u001b[1;32m    428\u001b[0m \u001b[39massert\u001b[39;00m (\n\u001b[1;32m    429\u001b[0m     shape\u001b[39m.\u001b[39mspace \u001b[39m==\u001b[39m \u001b[39mNone\u001b[39;00m\n\u001b[1;32m    430\u001b[0m ), \u001b[39m\"\u001b[39m\u001b[39mShape already added to another space. A shape can only be in one space at a time.\u001b[39m\u001b[39m\"\u001b[39m\n\u001b[1;32m    431\u001b[0m \u001b[39massert\u001b[39;00m shape\u001b[39m.\u001b[39mbody \u001b[39m!=\u001b[39m \u001b[39mNone\u001b[39;00m, \u001b[39m\"\u001b[39m\u001b[39mThe shape\u001b[39m\u001b[39m'\u001b[39m\u001b[39ms body is not set.\u001b[39m\u001b[39m\"\u001b[39m\n",
      "\u001b[0;31mKeyboardInterrupt\u001b[0m: "
     ]
    }
   ],
   "source": [
    "# Hyperparameters\n",
    "N = 100000  # Number of sequences\n",
    "L = 10  # Length of each sequence\n",
    "H, W = 16, 16  # Dimensions of the images\n",
    "\n",
    "\n",
    "class PixelDataset(Dataset):\n",
    "    def __init__(self, num_sequences, sequence_length):\n",
    "        self.data = []\n",
    "        self.targets = []\n",
    "        for i in range(num_sequences):\n",
    "            images, positions = generate_random_sequence(\n",
    "                sequence_length=sequence_length,\n",
    "                speed_min=speed_min,\n",
    "                speed_max=speed_max,\n",
    "                direction_min=direction_min,\n",
    "                direction_max=direction_max,\n",
    "                position_x_min=position_x_min,\n",
    "                position_x_max=position_x_max,\n",
    "                position_y_min=position_y_min,\n",
    "                position_y_max=position_y_max,\n",
    "                gravity_min=gravity_min,\n",
    "                gravity_max=gravity_max,\n",
    "                restitution_min=restitution_min,\n",
    "                restitution_max=restitution_max,\n",
    "            )\n",
    "            self.data.append(images)  # Store the whole sequence\n",
    "            self.targets.append(positions)  # Store all positions\n",
    "\n",
    "            if i % 1000 == 0:\n",
    "                print(f\"Generated {i} sequences\")\n",
    "\n",
    "        self.transform = transforms.ToTensor()\n",
    "        self.sequence_length = sequence_length\n",
    "\n",
    "    def __len__(self):\n",
    "        return len(self.data)\n",
    "\n",
    "    def __getitem__(self, idx):\n",
    "        # Transform and stack images to create a sequence\n",
    "        sequence_of_images = [self.transform(image) for image in self.data[idx]]\n",
    "        sequence_of_images = torch.stack(sequence_of_images)\n",
    "\n",
    "        # Stack target positions\n",
    "        target_positions = torch.FloatTensor(self.targets[idx])\n",
    "\n",
    "        return sequence_of_images, target_positions\n",
    "\n",
    "\n",
    "# Creating Dataset and DataLoader\n",
    "dataset = PixelDataset(N, L)\n",
    "torch.save(dataset, \"dataset.pt\")"
   ]
  },
  {
   "cell_type": "code",
   "execution_count": null,
   "metadata": {},
   "outputs": [],
   "source": []
  }
 ],
 "metadata": {
  "kernelspec": {
   "display_name": "Python 3",
   "language": "python",
   "name": "python3"
  },
  "language_info": {
   "codemirror_mode": {
    "name": "ipython",
    "version": 3
   },
   "file_extension": ".py",
   "mimetype": "text/x-python",
   "name": "python",
   "nbconvert_exporter": "python",
   "pygments_lexer": "ipython3",
   "version": "3.8.13"
  }
 },
 "nbformat": 4,
 "nbformat_minor": 2
}
